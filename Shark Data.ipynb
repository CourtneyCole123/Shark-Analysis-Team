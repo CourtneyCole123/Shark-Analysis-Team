{
 "cells": [
  {
   "cell_type": "code",
   "execution_count": 1,
   "id": "cccebe04-59a6-4ff3-b125-e9f5485ee5a2",
   "metadata": {},
   "outputs": [],
   "source": [
    "# imports\n",
    "import matplotlib.pyplot as plt\n",
    "import pandas as pd\n",
    "import numpy as np\n",
    "import requests\n",
    "import time\n",
    "import scipy.stats as st\n",
    "from scipy.stats import linregress\n",
    "import json"
   ]
  },
  {
   "cell_type": "code",
   "execution_count": 2,
   "id": "e4c2fa9c-a63a-49d2-a0a8-559e084da90d",
   "metadata": {},
   "outputs": [],
   "source": [
    "# create base url\n",
    "base_url = 'https://public.opendatasoft.com/api/explore/v2.1/catalog/datasets/global-shark-attack/records?limit=100'"
   ]
  },
  {
   "cell_type": "code",
   "execution_count": 3,
   "id": "8189c824-e7b9-4f47-ba23-5937b2f10135",
   "metadata": {},
   "outputs": [
    {
     "data": {
      "text/plain": [
       "<Response [200]>"
      ]
     },
     "execution_count": 3,
     "metadata": {},
     "output_type": "execute_result"
    }
   ],
   "source": [
    "# read base_url\n",
    "requests.get(base_url)"
   ]
  },
  {
   "cell_type": "code",
   "execution_count": 4,
   "id": "ab7b5e10-bccf-4828-8e83-ca60171f5b9d",
   "metadata": {},
   "outputs": [],
   "source": [
    "# create list of #s for offet\n",
    "total_count = requests.get(base_url).json()['total_count']"
   ]
  },
  {
   "cell_type": "code",
   "execution_count": 5,
   "id": "79dcf03c-c5fb-4467-a28c-7a0518af1478",
   "metadata": {},
   "outputs": [],
   "source": [
    "# hold the data\n",
    "all_of_the_data = []"
   ]
  },
  {
   "cell_type": "code",
   "execution_count": null,
   "id": "b96e28bd-f153-4c31-8a13-56ba84f63972",
   "metadata": {},
   "outputs": [],
   "source": [
    "# loop through offsets to combine data into one dataframe\n",
    "for currentOffset in np.arange(0,total_count,100):\n",
    "  # print(currentOffset)\n",
    "  cur_data = requests.get(f'{base_url}&offset={currentOffset}').json()['results']\n",
    "  all_of_the_data.extend(cur_data) #extend is like\n",
    "  time.sleep(0.5)"
   ]
  },
  {
   "cell_type": "code",
   "execution_count": null,
   "id": "0c93a223-ae53-43cd-8ec7-981c977245e3",
   "metadata": {},
   "outputs": [],
   "source": [
    "# check number of data points total in list of offsets\n",
    "len(all_of_the_data)"
   ]
  },
  {
   "cell_type": "code",
   "execution_count": null,
   "id": "a777b4b5-9582-48e7-9a58-490aa23fcabf",
   "metadata": {},
   "outputs": [],
   "source": [
    "# create a dataframe from offset list\n",
    "all_of_the_data_df = pd.DataFrame(all_of_the_data)\n",
    "all_of_the_data_df"
   ]
  },
  {
   "cell_type": "code",
   "execution_count": null,
   "id": "59725a23-a4c3-411f-b049-3e1fbc95ceb2",
   "metadata": {},
   "outputs": [],
   "source": [
    "# Changed all None to nan and then dropped all nans\n",
    "new_data_df = all_of_the_data_df.replace(to_replace='None', value=np.nan).dropna()\n",
    "new_data_df"
   ]
  },
  {
   "cell_type": "code",
   "execution_count": null,
   "id": "a1ad77ee-3158-490a-b86a-b4e56f5f07c6",
   "metadata": {},
   "outputs": [],
   "source": [
    "# checked data types\n",
    "new_data_df.dtypes"
   ]
  },
  {
   "cell_type": "code",
   "execution_count": null,
   "id": "0e9a1cbb-f8ee-46dc-8b0e-10575f699308",
   "metadata": {},
   "outputs": [],
   "source": [
    "# change age from object to number\n",
    "new_data_df['age'] = pd.to_numeric(all_of_the_data_df['age'], errors='coerce')\n",
    "new_data_df"
   ]
  },
  {
   "cell_type": "code",
   "execution_count": null,
   "id": "11f294aa-26ab-4e0a-a8e7-d392b993c503",
   "metadata": {},
   "outputs": [],
   "source": [
    "# change age from number to integer\n",
    "new_data_df['age'] = new_data_df['age'].astype('Int64')\n",
    "new_data_df"
   ]
  },
  {
   "cell_type": "code",
   "execution_count": null,
   "id": "b2600240-be11-4fa2-8d27-0e0ed2e8c27a",
   "metadata": {},
   "outputs": [],
   "source": [
    "# deleted unnecessary column\n",
    "del new_data_df['investigator_or_source']"
   ]
  },
  {
   "cell_type": "code",
   "execution_count": null,
   "id": "4b51090b-4450-45c6-b0dd-21fee5beab0b",
   "metadata": {},
   "outputs": [],
   "source": [
    "# deleted unnecessary column\n",
    "del new_data_df['pdf']"
   ]
  },
  {
   "cell_type": "code",
   "execution_count": null,
   "id": "0b3063f2-ef4e-46be-9df1-a6f5acff2595",
   "metadata": {},
   "outputs": [],
   "source": [
    "# deleted unnecessary column\n",
    "del new_data_df['href_formula']"
   ]
  },
  {
   "cell_type": "code",
   "execution_count": null,
   "id": "e50b5d24-d384-47fb-a722-caeb58910313",
   "metadata": {},
   "outputs": [],
   "source": [
    "# deleted unnecessary column\n",
    "del new_data_df['href']"
   ]
  },
  {
   "cell_type": "code",
   "execution_count": null,
   "id": "55187966-f4ef-425b-ae34-dc8b30da5c0f",
   "metadata": {},
   "outputs": [],
   "source": [
    "# deleted unnecessary column\n",
    "del new_data_df['case_number']"
   ]
  },
  {
   "cell_type": "code",
   "execution_count": null,
   "id": "b041fc1a-80b7-4ec1-b5cc-c151f0a225c1",
   "metadata": {},
   "outputs": [],
   "source": [
    "# deleted unnecessary column\n",
    "del new_data_df['case_number0']"
   ]
  },
  {
   "cell_type": "code",
   "execution_count": null,
   "id": "93e653f6-1de7-4653-b7fe-8cd4374828ec",
   "metadata": {},
   "outputs": [],
   "source": [
    "# deleted unnecessary column\n",
    "del new_data_df['original_order']"
   ]
  },
  {
   "cell_type": "code",
   "execution_count": null,
   "id": "34307e06-9de8-4eba-8988-c0ce48092273",
   "metadata": {},
   "outputs": [],
   "source": [
    "# reprint dataframe with removed columns\n",
    "new_data_df"
   ]
  },
  {
   "cell_type": "code",
   "execution_count": null,
   "id": "10126429-9626-4ead-be9c-41945d46bafd",
   "metadata": {},
   "outputs": [],
   "source": [
    "# split text to columns on species and rename columns \n",
    "fixed_data_df = new_data_df.join(\n",
    "     new_data_df['species'].str.split(',', expand=True).rename(\n",
    "         columns={0:'Species_1', 1:'Species_2', 2:'Species_3',3:'Species_4'}\n",
    "     )\n",
    " )"
   ]
  },
  {
   "cell_type": "code",
   "execution_count": null,
   "id": "79472714-50f6-4d56-8ec7-6ac4a1f10554",
   "metadata": {},
   "outputs": [],
   "source": [
    "fixed_data_df"
   ]
  },
  {
   "cell_type": "code",
   "execution_count": null,
   "id": "1129631f-7e4a-43af-add6-48e845c658fc",
   "metadata": {},
   "outputs": [],
   "source": [
    "# remove unnecessary column\n",
    "del fixed_data_df['species']"
   ]
  },
  {
   "cell_type": "code",
   "execution_count": null,
   "id": "be75cdc1-db61-420c-9187-415d7926c9ff",
   "metadata": {},
   "outputs": [],
   "source": [
    "fixed_data_df"
   ]
  },
  {
   "cell_type": "code",
   "execution_count": null,
   "id": "11327642-9585-438c-9c6c-61ae6641a9bd",
   "metadata": {},
   "outputs": [],
   "source": [
    "# remove unnecesary column\n",
    "del fixed_data_df['time']"
   ]
  },
  {
   "cell_type": "code",
   "execution_count": null,
   "id": "b1496683-1720-45fb-86f9-b8b222397430",
   "metadata": {},
   "outputs": [],
   "source": [
    "fixed_data_df"
   ]
  },
  {
   "cell_type": "code",
   "execution_count": null,
   "id": "26c3ebf7-af41-4398-a3c0-669a74e057eb",
   "metadata": {},
   "outputs": [],
   "source": [
    "# check species_1 column to see what unique values exist\n",
    "species= fixed_data_df['Species_1'].unique()\n",
    "species"
   ]
  },
  {
   "cell_type": "code",
   "execution_count": null,
   "id": "d77e132c-251a-4fb3-a1c6-f441c180ab64",
   "metadata": {},
   "outputs": [],
   "source": [
    "# look at value counts of species 1 to determine which values need to be cleaned/removed\n",
    "fixed_data_df['Species_1'].value_counts().head(25)"
   ]
  },
  {
   "cell_type": "code",
   "execution_count": null,
   "id": "b0ba989d-b5f2-49fe-9d0a-06b638ba52c2",
   "metadata": {},
   "outputs": [],
   "source": [
    "# clean species_1\n",
    "fixed_data_df['Species_1'] = fixed_data_df['Species_1'].replace({\"4' shark\": 'Unknown',\"4' to 5' shark\": 'Unknown',\"1.8 m [6'] shark\":'Unknown',\n",
    "\"6' shark\":'Unknown',\"Invalid\":'Unknown',\"3' shark\": 'Unknown'})"
   ]
  },
  {
   "cell_type": "code",
   "execution_count": null,
   "id": "e8f398f4-5517-4941-a8fc-e5b9cca01154",
   "metadata": {},
   "outputs": [],
   "source": [
    "# create a list of sharks\n",
    "top_sharks = fixed_data_df['Species_1'].value_counts().head(10).keys().to_list()"
   ]
  },
  {
   "cell_type": "code",
   "execution_count": null,
   "id": "0b6fb15c-764e-49aa-a31a-237307f38cff",
   "metadata": {},
   "outputs": [],
   "source": [
    "# make an empty dataframe and create df list\n",
    "top_shark_df = fixed_data_df.head(0).copy()\n",
    "dfs = []"
   ]
  },
  {
   "cell_type": "code",
   "execution_count": null,
   "id": "d6e5cda0-50f0-4a79-854c-1c48d76adab0",
   "metadata": {},
   "outputs": [],
   "source": [
    "# create list of top shark dataframes\n",
    "for shark in top_sharks:\n",
    "    dfs.append(fixed_data_df.loc[fixed_data_df['Species_1'] == shark])"
   ]
  },
  {
   "cell_type": "code",
   "execution_count": null,
   "id": "4ad14cf3-e8b1-4741-aed3-9fdb842d6e5c",
   "metadata": {},
   "outputs": [],
   "source": [
    "# combine dataframes\n",
    "for df in dfs:\n",
    "   top_shark_df= pd.concat([top_shark_df,df])"
   ]
  },
  {
   "cell_type": "code",
   "execution_count": null,
   "id": "b2cc6c87-6d9c-40da-af61-ed7b13675767",
   "metadata": {},
   "outputs": [],
   "source": [
    "# view top 20 shark species\n",
    "top_shark_df['Species_1'].value_counts().head(20)"
   ]
  },
  {
   "cell_type": "code",
   "execution_count": null,
   "id": "a543644a-9990-4db5-8f3d-a24cfa163aa4",
   "metadata": {},
   "outputs": [],
   "source": [
    "# filter to white sharks only\n",
    "fixed_data_df['Species_1'].loc[fixed_data_df['Species_1'] =='White shark' ]"
   ]
  },
  {
   "cell_type": "code",
   "execution_count": null,
   "id": "cf99b3e9-a6f2-4b13-b3f3-08ba454590cb",
   "metadata": {},
   "outputs": [],
   "source": [
    "# create list of top sharks\n",
    "fixed_data_df['Species_1'].value_counts().head().keys().to_list()"
   ]
  },
  {
   "cell_type": "code",
   "execution_count": null,
   "id": "e3270c5a-a659-4f67-a5f5-930f728e9354",
   "metadata": {},
   "outputs": [],
   "source": [
    "# reprint dataframe\n",
    "fixed_data_df"
   ]
  },
  {
   "cell_type": "code",
   "execution_count": null,
   "id": "f6fff620-a66a-4c41-a09f-da56704b5fd0",
   "metadata": {},
   "outputs": [],
   "source": [
    "# drop row with incorrect date and reprint dataframe\n",
    "clean_data_df = fixed_data_df.drop(fixed_data_df.index[808])\n",
    "clean_data_df"
   ]
  },
  {
   "cell_type": "code",
   "execution_count": null,
   "id": "5730f262-90dc-4204-a299-4802f41094d8",
   "metadata": {},
   "outputs": [],
   "source": [
    "#change date data type from object to date/time format\n",
    "clean_data_df['date']=pd.to_datetime(clean_data_df['date'], format='%Y-%m-%d')"
   ]
  },
  {
   "cell_type": "code",
   "execution_count": null,
   "id": "f0c9f0f5-1725-4c2a-8776-d7e648ac26b1",
   "metadata": {},
   "outputs": [],
   "source": [
    "# verify datatypes to make sure date/time format is reflected\n",
    "clean_data_df.dtypes"
   ]
  },
  {
   "cell_type": "code",
   "execution_count": null,
   "id": "2a7d7e3b-4b92-4209-ae7f-3f958cdb5e96",
   "metadata": {},
   "outputs": [],
   "source": [
    "# reprint dataframe\n",
    "clean_data_df"
   ]
  },
  {
   "cell_type": "code",
   "execution_count": null,
   "id": "d0446d04-9412-4bc9-ba7f-8da3fefa21c4",
   "metadata": {},
   "outputs": [],
   "source": [
    "# look at count of species in list again\n",
    "clean_data_df['Species_1'].value_counts().head(200)"
   ]
  },
  {
   "cell_type": "code",
   "execution_count": null,
   "id": "72d45730-d915-48a8-9de2-ba182e62481c",
   "metadata": {},
   "outputs": [],
   "source": [
    "# remove unnecessary column\n",
    "del clean_data_df['Species_2']"
   ]
  },
  {
   "cell_type": "code",
   "execution_count": null,
   "id": "b9e47201-d0c9-4737-b33d-dd4900935b36",
   "metadata": {},
   "outputs": [],
   "source": [
    "# remove unnecessary column\n",
    "del clean_data_df['Species_3']"
   ]
  },
  {
   "cell_type": "code",
   "execution_count": null,
   "id": "d1f4cbe6-9765-4444-bd97-44f8409946b9",
   "metadata": {},
   "outputs": [],
   "source": [
    "# remove unnecessary column\n",
    "del clean_data_df['Species_4']"
   ]
  },
  {
   "cell_type": "code",
   "execution_count": null,
   "id": "73d5954d-38b9-49f4-80c2-1260cb6a9337",
   "metadata": {},
   "outputs": [],
   "source": [
    "# reprint dataframe\n",
    "clean_data_df"
   ]
  },
  {
   "cell_type": "code",
   "execution_count": null,
   "id": "ed4a7a01-f0f8-4190-ba03-0dc2e201f6d9",
   "metadata": {},
   "outputs": [],
   "source": [
    "# review tail of dataframe\n",
    "clean_data_df['Species_1'].value_counts().tail(10)"
   ]
  },
  {
   "cell_type": "code",
   "execution_count": null,
   "id": "dd7494a3-4ce9-4d4c-9845-ed05843d90bf",
   "metadata": {},
   "outputs": [],
   "source": [
    "# create white shark dataframe\n",
    "white_shark_df = clean_data_df.loc[clean_data_df['Species_1'] =='White shark' ]\n",
    "white_shark_df"
   ]
  },
  {
   "cell_type": "code",
   "execution_count": null,
   "id": "449c3b6c-fba4-4ac1-afb2-a1a15e7d0551",
   "metadata": {},
   "outputs": [],
   "source": [
    "# create tiger shark dataframe\n",
    "tiger_shark_df = clean_data_df.loc[clean_data_df['Species_1'] =='Tiger shark' ]\n",
    "tiger_shark_df"
   ]
  },
  {
   "cell_type": "code",
   "execution_count": null,
   "id": "5a3912c6-10c6-4444-9604-fd0120627d02",
   "metadata": {},
   "outputs": [],
   "source": [
    "# create unknown shark dataframe\n",
    "unknown_shark_df = clean_data_df.loc[clean_data_df['Species_1'] =='Unknown' ]\n",
    "unknown_shark_df"
   ]
  },
  {
   "cell_type": "code",
   "execution_count": null,
   "id": "38aa193e-f2e6-4587-b5f9-1f0d2c14ed82",
   "metadata": {},
   "outputs": [],
   "source": [
    "# create bull shark dataframe\n",
    "bull_shark_df = clean_data_df.loc[clean_data_df['Species_1'] =='Bull shark' ]\n",
    "bull_shark_df"
   ]
  },
  {
   "cell_type": "code",
   "execution_count": null,
   "id": "ce096981-9ec9-48a8-97d6-df710ff9a4e9",
   "metadata": {},
   "outputs": [],
   "source": [
    "# create bronze whaler shark dataframe\n",
    "bronze_whaler_shark_df = clean_data_df.loc[clean_data_df['Species_1'] =='Bronze whaler' ]\n",
    "bronze_whaler_shark_df"
   ]
  },
  {
   "cell_type": "code",
   "execution_count": null,
   "id": "8edd41e1-8f66-40ea-93c1-f533a9baf2fc",
   "metadata": {},
   "outputs": [],
   "source": [
    "# create blacktip shark dataframe\n",
    "blacktip_shark_df = clean_data_df.loc[clean_data_df['Species_1'] =='Blacktip shark' ]\n",
    "blacktip_shark_df"
   ]
  },
  {
   "cell_type": "code",
   "execution_count": null,
   "id": "73c5a533-5cce-4055-94a2-c5d8aa889679",
   "metadata": {},
   "outputs": [],
   "source": [
    "# create raggedtooh shark dataframe\n",
    "raggedtooth_shark_df = clean_data_df.loc[clean_data_df['Species_1'] =='Raggedtooth shark' ]\n",
    "raggedtooth_shark_df"
   ]
  },
  {
   "cell_type": "code",
   "execution_count": null,
   "id": "c1ffc810-4e7e-437f-9aaa-811a3ac2811a",
   "metadata": {},
   "outputs": [],
   "source": [
    "#create nurse shark dataframe\n",
    "nurse_shark_df = clean_data_df.loc[clean_data_df['Species_1'] =='Nurse shark' ]\n",
    "nurse_shark_df"
   ]
  },
  {
   "cell_type": "code",
   "execution_count": null,
   "id": "76f47fd8-50b5-441b-b317-5619eabb25ee",
   "metadata": {},
   "outputs": [],
   "source": [
    "# combine different shark dataframes together\n",
    "shark_clean_data_df = pd.concat([nurse_shark_df, raggedtooth_shark_df, blacktip_shark_df, bronze_whaler_shark_df,bull_shark_df, unknown_shark_df, \n",
    "tiger_shark_df,white_shark_df], ignore_index=True)"
   ]
  },
  {
   "cell_type": "code",
   "execution_count": null,
   "id": "988aa2bc-f066-47d3-8ddc-2bb603a2bc6d",
   "metadata": {},
   "outputs": [],
   "source": [
    "# print new clean shark dataframe\n",
    "shark_clean_data_df"
   ]
  },
  {
   "cell_type": "code",
   "execution_count": null,
   "id": "b49cbbd3-5fd4-40e6-9e43-e25c321b854a",
   "metadata": {},
   "outputs": [],
   "source": [
    "activity_df = shark_clean_data_df[['activity']]"
   ]
  },
  {
   "cell_type": "code",
   "execution_count": null,
   "id": "7a196c2c-59db-4455-accd-e1f2d33dce92",
   "metadata": {},
   "outputs": [],
   "source": [
    "activity_df"
   ]
  },
  {
   "cell_type": "code",
   "execution_count": null,
   "id": "6d72c16e-cadf-4708-8261-06aedc80d20e",
   "metadata": {},
   "outputs": [],
   "source": [
    "activity_df.value_counts()"
   ]
  },
  {
   "cell_type": "code",
   "execution_count": null,
   "id": "dfa4ab1f-6df2-4b71-81d8-78552c4de173",
   "metadata": {},
   "outputs": [],
   "source": [
    "activity_df = activity_df = activity_df.replace({\"Free diving for abalone (surfacing)\": 'Spearfishing',\n",
    "\"Free diving / spearfishing, from paddleboard & floating on the surface\": 'Spearfishing',\n",
    "\"Free diving / spearfishing (resting on the surface)\":'Spearfishing',\n",
    "\"Free diving / spearfishing\":'Spearfishing'})"
   ]
  },
  {
   "cell_type": "code",
   "execution_count": null,
   "id": "05d13a42-1395-4407-8dc3-9e40b9c8d44f",
   "metadata": {},
   "outputs": [],
   "source": [
    "activity_df.value_counts()"
   ]
  },
  {
   "cell_type": "code",
   "execution_count": null,
   "id": "5690bdcd-a216-45ca-93ee-93ba19d7c7c1",
   "metadata": {},
   "outputs": [],
   "source": [
    "activity_df = activity_df = activity_df.replace({\"Free diving with seals \": 'Free Diving',\n",
    "\"Free diving or wading back to shore\": 'Free Diving',\n",
    "\"Free diving for abalone diving but at surface)\": 'Free Diving',\n",
    "\"Free diving (but on surface)\":'Free Diving',\n",
    "\"Windsurfing, but sitting on his board\":'Windsurfing'})"
   ]
  },
  {
   "cell_type": "code",
   "execution_count": null,
   "id": "06f3980f-b023-4f5c-a39e-74a14b685cfd",
   "metadata": {},
   "outputs": [],
   "source": [
    "activity_df.value_counts()"
   ]
  },
  {
   "cell_type": "code",
   "execution_count": null,
   "id": "5dbb203b-1510-403c-9d09-2407259244f2",
   "metadata": {},
   "outputs": [],
   "source": [
    "activity_df = activity_df = activity_df.replace({\"Abalone diving using Hookah (near calving whales)\": 'Other',\n",
    "\"Diving into water \": 'Free Diving',\n",
    "\"Picking opihi \": 'Other',\n",
    "\"Paddling rescue ski\":'Other',\n",
    "\"14 m prawn trawler New Venture capsized  & sank in heavy seas Three people in the water\":'Other'})"
   ]
  },
  {
   "cell_type": "code",
   "execution_count": null,
   "id": "4a94e48d-bac3-4384-a0eb-94ad396ad388",
   "metadata": {},
   "outputs": [],
   "source": [
    "activity_df .value_counts()"
   ]
  },
  {
   "cell_type": "code",
   "execution_count": null,
   "id": "e1cb643e-9875-4722-9e31-8b86b0a0398e",
   "metadata": {},
   "outputs": [],
   "source": [
    "activity_df = activity_df = activity_df.replace({\"Rolled off raft\": 'Other',\n",
    "\"Riding floatation device\": 'Other',\n",
    "\"Bathing in knee-deep water\": 'Other',\n",
    "\"Dog paddling or standing\":'Other',\n",
    "\"Playing in the water\":'Other'})"
   ]
  },
  {
   "cell_type": "code",
   "execution_count": null,
   "id": "11af89d4-a78c-4be7-adf6-8140c924d2b2",
   "metadata": {},
   "outputs": [],
   "source": [
    "activity_df.value_counts()"
   ]
  },
  {
   "cell_type": "code",
   "execution_count": null,
   "id": "030090dc-4b00-4177-ab7a-f8349f894554",
   "metadata": {},
   "outputs": [],
   "source": [
    "activity_df = activity_df = activity_df.replace({\"Diving, but on the surface when bitten by the shark\": 'Free Diving',\n",
    "\"Rowing\": 'Other',\n",
    "\"Dress diving, filming shark & pulling it through the water for a motion picture scene\": 'Other',\n",
    "\"Fishing - 'tag & release'\":'Fishing',\n",
    "\"Spearfishing / free diving \":'Spearfishing'})"
   ]
  },
  {
   "cell_type": "code",
   "execution_count": null,
   "id": "832e4bfa-1632-4762-abc2-ae114fbe74b5",
   "metadata": {},
   "outputs": [],
   "source": [
    "activity_df.value_counts()"
   ]
  },
  {
   "cell_type": "code",
   "execution_count": null,
   "id": "23b0624a-e145-4ce9-9bd6-0a91fd1c80b9",
   "metadata": {},
   "outputs": [],
   "source": [
    "activity_df = activity_df = activity_df.replace({\"Scallop diving (using surface-supplied air & a POD)\": 'Free Diving',\n",
    "\"Sailing on catamaran & fell into the water\": 'Other',\n",
    "\"SUP Foil boarding\": 'Other',\n",
    "\"Fishing / standing in waist deep water\":'Fishing',\n",
    "\"Spearfishing, dived to pick up a float line\":'Spearfishing'})"
   ]
  },
  {
   "cell_type": "code",
   "execution_count": null,
   "id": "ab4c349c-c9bf-4a2a-a3c5-6edb7a49f1a2",
   "metadata": {},
   "outputs": [],
   "source": [
    "activity_df.value_counts()"
   ]
  },
  {
   "cell_type": "code",
   "execution_count": null,
   "id": "0e10fbb2-12f3-440a-b01b-09459a7c8059",
   "metadata": {},
   "outputs": [],
   "source": [
    "activity_df = activity_df = activity_df.replace({\"Diving into water\": 'Free Diving',\n",
    "\"Scallop diving on hookah\": 'Free Diving',\n",
    "\"Sailing\": 'Other',\n",
    "\"Fishing for sharks\":'Fishing',\n",
    "\"Spearfishing, holding mesh bag with speared fish\":'Spearfishing'})"
   ]
  },
  {
   "cell_type": "code",
   "execution_count": null,
   "id": "da6cd954-0686-4f6e-a258-e959990d12cc",
   "metadata": {},
   "outputs": [],
   "source": [
    "activity_df.value_counts()"
   ]
  },
  {
   "cell_type": "code",
   "execution_count": null,
   "id": "b9203e3b-0241-46cb-862f-bdd8794412d4",
   "metadata": {},
   "outputs": [],
   "source": [
    "activity_df = activity_df = activity_df.replace({\"Diving for trochus\": 'Free Diving',\n",
    "\"Scuba diving & spearfishing\": 'Spearfishing',\n",
    "\"Diving from the lugger San, operated by the Protector of the Aborigines\": 'Free Diving',\n",
    "\"Fishing from a kayak\":'Fishing',\n",
    "\"Diving for Abalone\":'Free Diving'})"
   ]
  },
  {
   "cell_type": "code",
   "execution_count": null,
   "id": "9c735bef-10a4-4434-91db-3aaca2eda89f",
   "metadata": {},
   "outputs": [],
   "source": [
    "activity_df.value_counts()"
   ]
  },
  {
   "cell_type": "code",
   "execution_count": null,
   "id": "9a019c66-b584-41af-923a-671bc54c5f23",
   "metadata": {},
   "outputs": [],
   "source": [
    "activity_df = activity_df = activity_df.replace({\"Spearfishing, pulled shark’s tail\": 'Spearfishing',\n",
    "\"Spearfishing, had fish on his spear\": 'Spearfishing',\n",
    "\"Splashing\": 'Free Diving',\n",
    "\"Dived overboard to check propeller of US Navy motor torpedo boat\":'Free Diving',\n",
    "\"Standing / Snorkeling\":'Snorkeling'})"
   ]
  },
  {
   "cell_type": "code",
   "execution_count": null,
   "id": "8cd7ae0f-7b0f-41e9-bcf7-a5e8071f5919",
   "metadata": {},
   "outputs": [],
   "source": [
    "activity_df.value_counts()"
   ]
  },
  {
   "cell_type": "code",
   "execution_count": null,
   "id": "7c52730d-c855-4fc7-ac2d-5b240f215775",
   "metadata": {},
   "outputs": [],
   "source": [
    "activity_df = activity_df = activity_df.replace({\"Spearfishing / free diving\": 'Spearfishing',\n",
    "\"Spearfishing with Scuba gear\": 'Spearfishing',\n",
    "\"Standing in waist-deep water, helping his father tend a gill net containing dead fish\": 'Other',\n",
    "\"Surf fishing in waist-deep water \":'Fishing',\n",
    "\"Kite Boarding\":'Other'})"
   ]
  },
  {
   "cell_type": "code",
   "execution_count": null,
   "id": "7770a70a-8445-49e7-bc6a-4c8fdba25b1b",
   "metadata": {},
   "outputs": [],
   "source": [
    "activity_df.value_counts().tail(60)"
   ]
  },
  {
   "cell_type": "code",
   "execution_count": null,
   "id": "519f7c73-dcf4-4143-9568-180057721edc",
   "metadata": {},
   "outputs": [],
   "source": [
    "activity_df = activity_df = activity_df.replace({\n",
    "\"Cleaning hull of ship\": 'Other',\n",
    "\"Surf fishing in waist-deep water\": 'Fishing',\n",
    "\"Diving for abalone (Hookah, submerged)\": 'Free Diving',\n",
    "\"Diving for abalone (Scuba)\":'Free Diving',\n",
    "\"Diving for abaone (Scuba, but at surface)\":'Free Diving',\n",
    "\"Swimming / Body Surfing\":\"Swimming\",\n",
    "\"Swimming near pier\":\"Swimming\",\n",
    "\"Body-boarding\":\"Body boarding\",\n",
    "\"Swimming breast stoke\":\"Swimming\",\n",
    "\"Casting a net\":\"Other\",\n",
    "\"Swimming /  boogie boarding\":\"Swimming\",\n",
    "\"Surfing with dolphins\":\"Surfing\",\n",
    "\"Surfing, paddling seawards\":\"Surfing\",\n",
    "\"Surfing, lying on surfboard\":\"Surfing\",\n",
    "\"Surfing, fell off surfboard & stepped on the shark.\":\"Surfing\",\n",
    "\"Swimming or Snorkeling\":\"Swimming\",\n",
    "\"Swimming underwater from crayfish cage to a fishing bait\":\"Swimming\",\n",
    "\"Swimming with dolphins\":\"Swimming\",\n",
    "\"Swimming with other crew near wharf\":\"Swimming\",\n",
    "\"Body surfing / treading water\":\"Body boarding\",\n",
    "\"Swimming, naked\":\"Swimming\",\n",
    "\"Swimming, poaching perlemoen\":\"Swimming\",\n",
    "\"Swimming. Passer-by, Len Bedford, heard him shriek , saw shark leap from the water & swimmer disappeared\":\"Swimming\",\n",
    "\"Teasing a shark\":\"Other\",\n",
    "\"Thrashing the water / imitating the shark victim from Jaws\":\"Other\",\n",
    "\"Body surfing & treading water\":\"Body boarding\",\n",
    "\"Body boarding or surfing\":\"Body boarding\",\n",
    "\"Wading / fishing & carrying a bag of fish\":\"Other\",\n",
    "\"Wading in school of baitfish\":\"Other\",\n",
    "\"Body Surfing\":\"Body boarding\",\n",
    "\"Walking on reef\":\"Other\",                                                                                             \n",
    "\"Water-skiing\":\"Other\",\n",
    "\"Surfing, but treading water\":\"Surfing\",\n",
    "\"Killing a shark\":\"Other\",\n",
    "\"Surfing on air mattress\":\"Other\",\n",
    "\"Cleaning fish\":\"Other\",\n",
    "\"Kite surfing\":\"Other\",\n",
    "\"Kiteboarding\":\"Other\",\n",
    "\"Lifesaving drill\":\"Other\",\n",
    "\"Lifesaving exhibition\":\"Other\",\n",
    "\"Lying on surfboard\":\"Other\",\n",
    "\"Lying prone in 2' of water\":\"Other\",\n",
    "\"Night bathing\":\"Other\",\n",
    "\"Kayak Fishing\":\"Fishing\",\n",
    "\"Hand feeding sharks\":\"Other\",\n",
    "\"Paddling\":\"Other\",\n",
    "\"Paddling on surfboard\":\"Other\",\n",
    "\"Picking opihi\":\"Other\",\n",
    "\"Free diving, Spearfishing\":\"Spearfishing\",\n",
    "\"Free diving with seals\":\"Free Diving\",\n",
    "\"Free diving & spearfishing (ascending)\":\"Spearfishing\",\n",
    "\"Free diving & spearfishing\":\"Spearfishing\",\n",
    "\"Floating on his back\":\"Other\",\n",
    "\"Floating in inflatable pool ring\": \"Other\",\n",
    "\"Scuba diving (submerged riding a scooter)\":\"Free Diving\",                                                                   \n",
    "\"Shark fishing\": \"Fishing\",\n",
    "\"Fishing with hand net in 2' of water\": \"Fishing\",                                                                     \n",
    "\"Spearfishing (Free diving)\": \"Spearfishing\"\n",
    "})"
   ]
  },
  {
   "cell_type": "code",
   "execution_count": null,
   "id": "8067ef69-3f80-4b55-8ced-bf222a7dfae1",
   "metadata": {},
   "outputs": [],
   "source": [
    "activity_df.value_counts()"
   ]
  },
  {
   "cell_type": "code",
   "execution_count": null,
   "id": "fb8f6f4e-96cc-45f5-a6ef-03a412c55923",
   "metadata": {},
   "outputs": [],
   "source": [
    "activity_df = activity_df = activity_df.replace({\n",
    "\"Scuba diving\":\"Free Diving\",\n",
    "\"Diving\":\"Free Diving\",\n",
    "\"Body surfing\":\"Body Boarding\",\n",
    "\"Treading water\":\"Swimming\",\n",
    "\"Free diving\":\"Free Diving\",\n",
    "\"Boogie boarding\":\"Body Boarding\",\n",
    "\"Surf-skiing\":\"Other\",\n",
    "\"Surf skiing\":\"Other\",\n",
    "\"Walking\":\"Other\",\n",
    "\"Free diving for abalone\":\"Free Diving\",\n",
    "\"Body Boarding\":\"Body Boarding\",\n",
    "\"Windsurfing\":\"Windsurfing\",\n",
    "\"Paddle boarding\":\"Other\",\n",
    "\"Stand-Up Paddleboarding\":\"Other\",\n",
    "\"Swimming / snorkeling\":\"Swimming\",\n",
    "\"Spearfishing / Scuba diving (at surface)\":\"Spearfishing\",\n",
    "\"Swimming from the New Venture\":\"Swimming\",\n",
    "\"Swimming, ducking for shells in water 0.9 m deep\":\"Swimming\",\n",
    "\"Bathing\":\"Other\",\n",
    "\"Spearfishing / Scuba diving\":\"Spearfishing\",\n",
    "\"Spearfishing (free diving)\":\"Spearfishing\",\n",
    "\"Scuba diving (but on surface)\":\"Free Diving\",\n",
    "\"Scuba Diving\":\"Free Diving\",\n",
    "\"Playing in the surf\":\"Other\",\n",
    "\"Playing\":\"Other\",\n",
    "\"Kite Surfing\":\"Other\",\n",
    "\"Kayaking / Fishing\":\"Kayaking\",\n",
    "\"Floating\":\"Other\",\n",
    "\"Diving for abalone (Hookah)\":\"Free Diving\",\n",
    "\"Diving for abalone\":\"Free Diving\",\n",
    "\"Boogie Boarding\":\"Body Boarding\",\n",
    "\"SUP\":\"Other\",          \n",
    "\"Collecting fish by lamplight in gully\":\"Fishing\"               \n",
    "})"
   ]
  },
  {
   "cell_type": "code",
   "execution_count": null,
   "id": "10eae4f3-aceb-44e7-b2ac-37703b598cf5",
   "metadata": {},
   "outputs": [],
   "source": [
    "activity_df.value_counts()"
   ]
  },
  {
   "cell_type": "code",
   "execution_count": null,
   "id": "8bdf3306-df08-4731-892c-6eb6a60e8188",
   "metadata": {},
   "outputs": [],
   "source": [
    "activity_df = activity_df = activity_df.replace({\"Body boarding\":\"Body Boarding\"})"
   ]
  },
  {
   "cell_type": "code",
   "execution_count": null,
   "id": "04ee75be-73e0-4bf0-93bb-b6a1b525ff6e",
   "metadata": {},
   "outputs": [],
   "source": [
    "activity_df.value_counts()"
   ]
  },
  {
   "cell_type": "code",
   "execution_count": null,
   "id": "a1d01846-7403-44f3-a526-7239d04d0dd7",
   "metadata": {},
   "outputs": [],
   "source": [
    "activity_list = ['Surfing','Swimming','Spearfishing','Other','Free Diving','Body Boarding','Fishing','Snorkeling','Standing',\n",
    "'Wading','Kayaking','Windsurfing']\n",
    "attack_number_list = [200,133,77,70,56,45,28,16,16,16,13,3]"
   ]
  },
  {
   "cell_type": "code",
   "execution_count": null,
   "id": "908a27ae-a50c-4fb4-aac3-474d71a6d8d8",
   "metadata": {},
   "outputs": [],
   "source": [
    "plt.bar(activity_list,attack_number_list)\n",
    "plt.xticks(activity_list, rotation=\"vertical\")\n",
    "plt.xlabel(\"Activity\")\n",
    "plt.ylabel(\"Number of Shark Attacks\")\n",
    "plt.title(\"Number of Shark Attacks by Activity\")\n",
    "plt.tight_layout()"
   ]
  },
  {
   "cell_type": "code",
   "execution_count": null,
   "id": "741d3227-519b-419e-b6a5-b7f5308ba5a2",
   "metadata": {},
   "outputs": [],
   "source": [
    "activity_type_df = shark_clean_data_df[['type','activity']]\n",
    "activity_type_df = activity_type_df.replace(to_replace='Watercraft', value=np.nan).dropna()\n",
    "activity_type_df.value_counts()"
   ]
  },
  {
   "cell_type": "code",
   "execution_count": null,
   "id": "c9c327be-9814-4528-b997-ed1113b90e60",
   "metadata": {},
   "outputs": [],
   "source": [
    "activity_type_df = activity_type_df.replace(to_replace='Invalid', value=np.nan).dropna()\n",
    "activity_type_df"
   ]
  },
  {
   "cell_type": "code",
   "execution_count": null,
   "id": "e218ef17-c23a-49cd-a97f-b6db8fd75668",
   "metadata": {},
   "outputs": [],
   "source": [
    "revised_activity_type_df = activity_type_df.set_index(['activity'])\n",
    "value_counts_df = revised_activity_type_df.loc['Surfing'].value_counts()\n",
    "index = ['Unprovoked', 'Provoked']\n",
    "plt.ylabel(\"\")\n",
    "value_counts_df.plot(kind='pie',x='type',labels = index,autopct = \"%1.1f%%\",startangle= 200)\n",
    "plt.title('Surfing Deep Dive: Provoked v. Unprovoked')\n",
    "plt.axis(\"equal\")\n",
    "plt.legend()"
   ]
  },
  {
   "cell_type": "code",
   "execution_count": null,
   "id": "d872abb9-66ae-4293-b88c-3bec870cbc34",
   "metadata": {},
   "outputs": [],
   "source": [
    "value_counts = activity_df.value_counts()\n",
    "value_counts_df = pd.DataFrame({\"Number of Attacks\":value_counts})"
   ]
  }
 ],
 "metadata": {
  "kernelspec": {
   "display_name": "Python 3 (ipykernel)",
   "language": "python",
   "name": "python3"
  },
  "language_info": {
   "codemirror_mode": {
    "name": "ipython",
    "version": 3
   },
   "file_extension": ".py",
   "mimetype": "text/x-python",
   "name": "python",
   "nbconvert_exporter": "python",
   "pygments_lexer": "ipython3",
   "version": "3.10.13"
  }
 },
 "nbformat": 4,
 "nbformat_minor": 5
}
